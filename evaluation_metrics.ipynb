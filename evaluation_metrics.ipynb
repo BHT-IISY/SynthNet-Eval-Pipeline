{
 "cells": [
  {
   "cell_type": "markdown",
   "metadata": {},
   "source": [
    "# RETRIEVAL METRICS + EXAMPLES"
   ]
  },
  {
   "cell_type": "markdown",
   "metadata": {},
   "source": [
    "Useful information sources:\n",
    "\n",
    "METRICS FOR MULTI-CLASS CLASSIFICATION: AN OVERVIEW\n",
    "https://arxiv.org/pdf/2008.05756.pdf\n",
    "\n",
    "An Introduction to Information Retrieval\n",
    "https://nlp.stanford.edu/IR-book/pdf/irbookonlinereading.pdf\n",
    "\n",
    "Evaluation Metrics - INLS 509: Information Retrieval\n",
    "https://ils.unc.edu/courses/2013_spring/inls509_001/lectures/10-EvaluationMetrics.pdf\n"
   ]
  },
  {
   "cell_type": "code",
   "execution_count": 21,
   "metadata": {},
   "outputs": [],
   "source": [
    "import pandas as pd\n",
    "import numpy as np"
   ]
  },
  {
   "cell_type": "markdown",
   "metadata": {},
   "source": [
    "## Data to evaluate"
   ]
  },
  {
   "cell_type": "code",
   "execution_count": 22,
   "metadata": {},
   "outputs": [
    {
     "ename": "UnpicklingError",
     "evalue": "pickle data was truncated",
     "output_type": "error",
     "traceback": [
      "\u001b[0;31m---------------------------------------------------------------------------\u001b[0m",
      "\u001b[0;31mUnpicklingError\u001b[0m                           Traceback (most recent call last)",
      "\u001b[1;32m/home/dritter/projects/evaluation-pipeline/evaluation_metrics.ipynb Cell 5\u001b[0m in \u001b[0;36m<cell line: 9>\u001b[0;34m()\u001b[0m\n\u001b[1;32m      <a href='vscode-notebook-cell://wsl%2Bubuntu-18.04/home/dritter/projects/evaluation-pipeline/evaluation_metrics.ipynb#W4sdnNjb2RlLXJlbW90ZQ%3D%3D?line=5'>6</a>\u001b[0m dataset_df_path \u001b[39m=\u001b[39m \u001b[39mf\u001b[39m\u001b[39m\"\u001b[39m\u001b[39mout/\u001b[39m\u001b[39m{\u001b[39;00mRUN\u001b[39m}\u001b[39;00m\u001b[39m/\u001b[39m\u001b[39m{\u001b[39;00mFEATURE_EXTRACTOR\u001b[39m}\u001b[39;00m\u001b[39m/\u001b[39m\u001b[39m{\u001b[39;00mSPLIT\u001b[39m}\u001b[39;00m\u001b[39m/dataset.csv\u001b[39m\u001b[39m\"\u001b[39m\n\u001b[1;32m      <a href='vscode-notebook-cell://wsl%2Bubuntu-18.04/home/dritter/projects/evaluation-pipeline/evaluation_metrics.ipynb#W4sdnNjb2RlLXJlbW90ZQ%3D%3D?line=7'>8</a>\u001b[0m dataset_df \u001b[39m=\u001b[39m pd\u001b[39m.\u001b[39mread_csv(dataset_df_path)\n\u001b[0;32m----> <a href='vscode-notebook-cell://wsl%2Bubuntu-18.04/home/dritter/projects/evaluation-pipeline/evaluation_metrics.ipynb#W4sdnNjb2RlLXJlbW90ZQ%3D%3D?line=8'>9</a>\u001b[0m img_retrieval_df \u001b[39m=\u001b[39m pd\u001b[39m.\u001b[39;49mread_pickle(retrieval_df_path)\n\u001b[1;32m     <a href='vscode-notebook-cell://wsl%2Bubuntu-18.04/home/dritter/projects/evaluation-pipeline/evaluation_metrics.ipynb#W4sdnNjb2RlLXJlbW90ZQ%3D%3D?line=10'>11</a>\u001b[0m display(img_retrieval_df\u001b[39m.\u001b[39mhead())\n\u001b[1;32m     <a href='vscode-notebook-cell://wsl%2Bubuntu-18.04/home/dritter/projects/evaluation-pipeline/evaluation_metrics.ipynb#W4sdnNjb2RlLXJlbW90ZQ%3D%3D?line=11'>12</a>\u001b[0m display(dataset_df\u001b[39m.\u001b[39mhead())\n",
      "File \u001b[0;32m~/miniconda3/envs/py39-evaluation-pipeline/lib/python3.9/site-packages/pandas/io/pickle.py:205\u001b[0m, in \u001b[0;36mread_pickle\u001b[0;34m(filepath_or_buffer, compression, storage_options)\u001b[0m\n\u001b[1;32m    202\u001b[0m     \u001b[39mwith\u001b[39;00m warnings\u001b[39m.\u001b[39mcatch_warnings(record\u001b[39m=\u001b[39m\u001b[39mTrue\u001b[39;00m):\n\u001b[1;32m    203\u001b[0m         \u001b[39m# We want to silence any warnings about, e.g. moved modules.\u001b[39;00m\n\u001b[1;32m    204\u001b[0m         warnings\u001b[39m.\u001b[39msimplefilter(\u001b[39m\"\u001b[39m\u001b[39mignore\u001b[39m\u001b[39m\"\u001b[39m, \u001b[39mWarning\u001b[39;00m)\n\u001b[0;32m--> 205\u001b[0m         \u001b[39mreturn\u001b[39;00m pickle\u001b[39m.\u001b[39;49mload(handles\u001b[39m.\u001b[39;49mhandle)\n\u001b[1;32m    206\u001b[0m \u001b[39mexcept\u001b[39;00m excs_to_catch:\n\u001b[1;32m    207\u001b[0m     \u001b[39m# e.g.\u001b[39;00m\n\u001b[1;32m    208\u001b[0m     \u001b[39m#  \"No module named 'pandas.core.sparse.series'\"\u001b[39;00m\n\u001b[1;32m    209\u001b[0m     \u001b[39m#  \"Can't get attribute '__nat_unpickle' on <module 'pandas._libs.tslib\"\u001b[39;00m\n\u001b[1;32m    210\u001b[0m     \u001b[39mreturn\u001b[39;00m pc\u001b[39m.\u001b[39mload(handles\u001b[39m.\u001b[39mhandle, encoding\u001b[39m=\u001b[39m\u001b[39mNone\u001b[39;00m)\n",
      "\u001b[0;31mUnpicklingError\u001b[0m: pickle data was truncated"
     ]
    }
   ],
   "source": [
    "RUN=\"mi3dor_trainsynth_testreal_resize\"\n",
    "FEATURE_EXTRACTOR=\"vit_in21k_finetuned\"\n",
    "SPLIT=\"traintest_full\"\n",
    "\n",
    "retrieval_df_path = f\"./out/{RUN}/{FEATURE_EXTRACTOR}/{SPLIT}/retrieval_results/img_retrieval_df.pickle\"\n",
    "dataset_df_path = f\"out/{RUN}/{FEATURE_EXTRACTOR}/{SPLIT}/dataset.csv\"\n",
    "\n",
    "dataset_df = pd.read_csv(dataset_df_path)\n",
    "img_retrieval_df = pd.read_pickle(retrieval_df_path)\n",
    "\n",
    "display(img_retrieval_df.head())\n",
    "display(dataset_df.head())\n"
   ]
  },
  {
   "cell_type": "markdown",
   "metadata": {},
   "source": [
    "## Example Data"
   ]
  },
  {
   "cell_type": "markdown",
   "metadata": {},
   "source": [
    "### minimal_example retrieval"
   ]
  },
  {
   "cell_type": "code",
   "execution_count": null,
   "metadata": {},
   "outputs": [],
   "source": [
    "# RUN=\"minimal_example\"\n",
    "# FEATURE_EXTRACTOR=\"vit_in21k\"\n",
    "# SPLIT=\"traintest_full\"\n",
    "\n",
    "# retrieval_df_path = f\"./out/{RUN}/{FEATURE_EXTRACTOR}/{SPLIT}/retrieval_results/img_retrieval_df.pickle\"\n",
    "# dataset_df_path = f\"out/{RUN}/{FEATURE_EXTRACTOR}/{SPLIT}/dataset.csv\"\n",
    "\n",
    "# dataset_df = pd.read_csv(dataset_df_path)\n",
    "# img_retrieval_df = pd.read_pickle(retrieval_df_path)\n",
    "\n",
    "# display(img_retrieval_df.head())\n",
    "# display(dataset_df.head())"
   ]
  },
  {
   "cell_type": "markdown",
   "metadata": {},
   "source": [
    "### Store Results as a row\n",
    "\n",
    "We want to merge eval results from various runs for comparison"
   ]
  },
  {
   "cell_type": "code",
   "execution_count": null,
   "metadata": {},
   "outputs": [
    {
     "data": {
      "text/html": [
       "<div>\n",
       "<style scoped>\n",
       "    .dataframe tbody tr th:only-of-type {\n",
       "        vertical-align: middle;\n",
       "    }\n",
       "\n",
       "    .dataframe tbody tr th {\n",
       "        vertical-align: top;\n",
       "    }\n",
       "\n",
       "    .dataframe thead th {\n",
       "        text-align: right;\n",
       "    }\n",
       "</style>\n",
       "<table border=\"1\" class=\"dataframe\">\n",
       "  <thead>\n",
       "    <tr style=\"text-align: right;\">\n",
       "      <th></th>\n",
       "      <th>run</th>\n",
       "      <th>feature_extractor</th>\n",
       "      <th>split</th>\n",
       "    </tr>\n",
       "  </thead>\n",
       "  <tbody>\n",
       "    <tr>\n",
       "      <th>0</th>\n",
       "      <td>mi3dor_trainsynth_testreal_resize</td>\n",
       "      <td>dino_vitb16_in1k</td>\n",
       "      <td>traintest_full</td>\n",
       "    </tr>\n",
       "  </tbody>\n",
       "</table>\n",
       "</div>"
      ],
      "text/plain": [
       "                                 run feature_extractor           split\n",
       "0  mi3dor_trainsynth_testreal_resize  dino_vitb16_in1k  traintest_full"
      ]
     },
     "metadata": {},
     "output_type": "display_data"
    }
   ],
   "source": [
    "eval_df = pd.DataFrame({\"run\": [RUN], \"feature_extractor\": [FEATURE_EXTRACTOR], \"split\": [SPLIT]})\n",
    "display(eval_df.head())"
   ]
  },
  {
   "cell_type": "markdown",
   "metadata": {},
   "source": [
    "## Confidence Score Function / Retrievals on mesh level (instead of renders from meshes)\n",
    "\n",
    "Some function that Calculates confidences for object meshes from image retrievals.\n",
    "\n",
    "e.g. Weighted by rank in img retrieval, First occurence, ...  "
   ]
  },
  {
   "cell_type": "markdown",
   "metadata": {},
   "source": [
    "### Basic - First occurrence in retrieval"
   ]
  },
  {
   "cell_type": "code",
   "execution_count": null,
   "metadata": {},
   "outputs": [],
   "source": [
    "\n",
    "mesh_retrieval_df = pd.DataFrame()\n",
    "mesh_retrieval_df['image'] = img_retrieval_df['image']\n",
    "mesh_retrieval_df['y_true'] = img_retrieval_df['y_true']\n",
    "mesh_retrieval_df['y_pred_class'] = np.nan\n",
    "mesh_retrieval_df['y_pred_class'] = mesh_retrieval_df['y_pred_class'].astype(object)\n",
    "mesh_retrieval_df['y_pred_mesh'] = np.nan\n",
    "mesh_retrieval_df['y_pred_mesh'] = mesh_retrieval_df['y_pred_mesh'].astype(object)\n",
    "for i, im_ret in img_retrieval_df.iterrows():\n",
    "    y_pred_mesh = im_ret['y_pred_mesh']\n",
    "    seen = set()\n",
    "    mesh_ret =  np.array([[mesh, im_ret['y_pred_class'][j]] for j, mesh in enumerate(y_pred_mesh) if not (mesh in seen or seen.add(mesh))])\n",
    "    mesh_retrieval_df['y_pred_mesh'].at[i] = mesh_ret[:, 0]\n",
    "    mesh_retrieval_df['y_pred_class'].at[i] = mesh_ret[:, 1]\n",
    "\n"
   ]
  },
  {
   "cell_type": "markdown",
   "metadata": {},
   "source": [
    "## Description / Justification\n",
    "### The issue with PR-Curve, ROC-AUC, mAP\n",
    "If we want to calculate PR-Curve, ROV-AUC and general mAP without cutting retrieval results to some value K we must query **ALL** neieghbours for each FAISS query to make sure we retrieve all relevant images. As this needs far to much computation resources for us, **we limit the image similarity search search to the number of relevant items N_REL**\n",
    "* Is there a FAISS search index that allows to retrieve all relevant images or even all neighbours for sure??"
   ]
  },
  {
   "cell_type": "markdown",
   "metadata": {},
   "source": [
    "## Store constant values for this run"
   ]
  },
  {
   "cell_type": "code",
   "execution_count": null,
   "metadata": {},
   "outputs": [],
   "source": [
    "# How many relevant meshes per class do we have?\n",
    "# Group by class\n",
    "group = dataset_df.groupby('class_label')\n",
    "# Count meshes per class without nan\n",
    "# Get Relevant items for specific class: N_REL_MESH['class']\n",
    "N_REL_MESH = group.apply(lambda x:len(x['mesh'].dropna().unique()))\n",
    "# How many queries did we perform\n",
    "N_Q = len(mesh_retrieval_df.index)"
   ]
  },
  {
   "cell_type": "markdown",
   "metadata": {},
   "source": [
    "## Accuracy"
   ]
  },
  {
   "cell_type": "code",
   "execution_count": null,
   "metadata": {},
   "outputs": [
    {
     "data": {
      "text/html": [
       "<div>\n",
       "<style scoped>\n",
       "    .dataframe tbody tr th:only-of-type {\n",
       "        vertical-align: middle;\n",
       "    }\n",
       "\n",
       "    .dataframe tbody tr th {\n",
       "        vertical-align: top;\n",
       "    }\n",
       "\n",
       "    .dataframe thead th {\n",
       "        text-align: right;\n",
       "    }\n",
       "</style>\n",
       "<table border=\"1\" class=\"dataframe\">\n",
       "  <thead>\n",
       "    <tr style=\"text-align: right;\">\n",
       "      <th></th>\n",
       "      <th>run</th>\n",
       "      <th>feature_extractor</th>\n",
       "      <th>split</th>\n",
       "      <th>acc_at_1</th>\n",
       "      <th>acc_at_5</th>\n",
       "      <th>acc_at_10</th>\n",
       "    </tr>\n",
       "  </thead>\n",
       "  <tbody>\n",
       "    <tr>\n",
       "      <th>0</th>\n",
       "      <td>mi3dor_trainsynth_testreal_resize</td>\n",
       "      <td>dino_vitb16_in1k</td>\n",
       "      <td>traintest_full</td>\n",
       "      <td>0.075714</td>\n",
       "      <td>0.188095</td>\n",
       "      <td>0.261524</td>\n",
       "    </tr>\n",
       "  </tbody>\n",
       "</table>\n",
       "</div>"
      ],
      "text/plain": [
       "                                 run feature_extractor           split  \\\n",
       "0  mi3dor_trainsynth_testreal_resize  dino_vitb16_in1k  traintest_full   \n",
       "\n",
       "   acc_at_1  acc_at_5  acc_at_10  \n",
       "0  0.075714  0.188095   0.261524  "
      ]
     },
     "metadata": {},
     "output_type": "display_data"
    }
   ],
   "source": [
    "def acc_at_k(y_true, y_pred, k:int=1):\n",
    "    \"\"\" Returns 1 (True) if y_true is at least once in the list of predictions (y_pred)\n",
    "        from first element to element k or 0 if not.\n",
    "    \"\"\"\n",
    "    y_pred_arr = np.array(y_pred)\n",
    "    return (sum((y_pred_arr == y_true)[:k].astype(int)) >= 1).astype(int)\n",
    "    \n",
    "score_at_1 = 0\n",
    "score_at_5 = 0\n",
    "score_at_10 = 0\n",
    "for i, mesh_ret in mesh_retrieval_df.iterrows():\n",
    "    score_at_1 += acc_at_k(mesh_ret[\"y_true\"], mesh_ret[\"y_pred_class\"], 1)\n",
    "    score_at_5 += acc_at_k(mesh_ret[\"y_true\"], mesh_ret[\"y_pred_class\"], 5)\n",
    "    score_at_10 += acc_at_k(mesh_ret[\"y_true\"], mesh_ret[\"y_pred_class\"], 10)\n",
    "\n",
    "acc_at_1 = score_at_1/N_Q\n",
    "acc_at_5 = score_at_5/N_Q\n",
    "acc_at_10 = score_at_10/N_Q\n",
    "\n",
    "eval_df = eval_df.assign(acc_at_1=acc_at_1, acc_at_5=acc_at_5, acc_at_10=acc_at_10)\n",
    "display(eval_df.head())"
   ]
  },
  {
   "cell_type": "markdown",
   "metadata": {},
   "source": [
    "## Precision @ K"
   ]
  },
  {
   "cell_type": "code",
   "execution_count": null,
   "metadata": {},
   "outputs": [],
   "source": [
    "def avg_precision_at_k(y_true, y_pred, k, n_rel):\n",
    "    \"\"\" Calculate precision@k for k=1 to k=max_k and.\n",
    "        Returns a list of precision@k for all k respectively.\n",
    "    \"\"\"\n",
    "    y_pred_arr = np.array(y_pred)\n",
    "    y_pred_relevance = (y_pred_arr == y_true)[:k].astype(int)\n",
    "    p_at_k = np.array([(sum(y_pred_relevance[:i+1])/(i+1)) for i in range(0, k)])\n",
    "\n",
    "    if p_at_k.shape[0] > y_pred_relevance.shape[0]:\n",
    "        diff = p_at_k.shape[0] - y_pred_relevance.shape[0]\n",
    "        y_pred_relevance = np.concatenate((y_pred_relevance, np.zeros(diff)))\n",
    "    \n",
    "    avg_p = (1/min(k,n_rel)) * sum(p_at_k[y_pred_relevance.astype(bool)])\n",
    "    return avg_p\n"
   ]
  },
  {
   "cell_type": "markdown",
   "metadata": {},
   "source": [
    "## Recall @ K"
   ]
  },
  {
   "cell_type": "code",
   "execution_count": null,
   "metadata": {},
   "outputs": [],
   "source": [
    "# def avg_recall_at_k(y_true, y_pred, k, n_rel):\n",
    "#     \"\"\" Calculate precision@k for k=1 to k=max_k and.\n",
    "#         Returns a list of precision@k for all k respectively.\n",
    "#     \"\"\"\n",
    "#     y_pred_arr = np.array(y_pred)\n",
    "#     y_pred_relevance = (y_pred_arr == y_true)[:k].astype(int)\n",
    "#     p_at_k = np.array([(sum(y_pred_relevance[:i+1])/(i+1)) for i in range(0, k)])\n",
    "\n",
    "#     # !NOTE: Is it okay to just fill up with zeros (wrong preds) if we have n_predicitons < K ? \n",
    "#     if p_at_k.shape[0] > y_pred_relevance.shape[0]:\n",
    "#         diff = p_at_k.shape[0] - y_pred_relevance.shape[0]\n",
    "#         y_pred_relevance = np.concatenate((y_pred_relevance, np.zeros(diff)))\n",
    "    \n",
    "#     # NOTE: we calc 1/n_rel instead 1/k because lower scores if all rel items are already retrieved makes no sense (!?)\n",
    "#     avg_p = (1/min(k,n_rel)) * sum(p_at_k[y_pred_relevance.astype(bool)])\n",
    "#     return avg_p"
   ]
  },
  {
   "cell_type": "markdown",
   "metadata": {},
   "source": [
    "### mAP@1"
   ]
  },
  {
   "cell_type": "code",
   "execution_count": null,
   "metadata": {},
   "outputs": [
    {
     "data": {
      "text/html": [
       "<div>\n",
       "<style scoped>\n",
       "    .dataframe tbody tr th:only-of-type {\n",
       "        vertical-align: middle;\n",
       "    }\n",
       "\n",
       "    .dataframe tbody tr th {\n",
       "        vertical-align: top;\n",
       "    }\n",
       "\n",
       "    .dataframe thead th {\n",
       "        text-align: right;\n",
       "    }\n",
       "</style>\n",
       "<table border=\"1\" class=\"dataframe\">\n",
       "  <thead>\n",
       "    <tr style=\"text-align: right;\">\n",
       "      <th></th>\n",
       "      <th>run</th>\n",
       "      <th>feature_extractor</th>\n",
       "      <th>split</th>\n",
       "      <th>acc_at_1</th>\n",
       "      <th>acc_at_5</th>\n",
       "      <th>acc_at_10</th>\n",
       "      <th>map_at_1</th>\n",
       "    </tr>\n",
       "  </thead>\n",
       "  <tbody>\n",
       "    <tr>\n",
       "      <th>0</th>\n",
       "      <td>mi3dor_trainsynth_testreal_resize</td>\n",
       "      <td>dino_vitb16_in1k</td>\n",
       "      <td>traintest_full</td>\n",
       "      <td>0.075714</td>\n",
       "      <td>0.188095</td>\n",
       "      <td>0.261524</td>\n",
       "      <td>0.075714</td>\n",
       "    </tr>\n",
       "  </tbody>\n",
       "</table>\n",
       "</div>"
      ],
      "text/plain": [
       "                                 run feature_extractor           split  \\\n",
       "0  mi3dor_trainsynth_testreal_resize  dino_vitb16_in1k  traintest_full   \n",
       "\n",
       "   acc_at_1  acc_at_5  acc_at_10  map_at_1  \n",
       "0  0.075714  0.188095   0.261524  0.075714  "
      ]
     },
     "metadata": {},
     "output_type": "display_data"
    }
   ],
   "source": [
    "K=1\n",
    "mesh_retrieval_df[f'ap_at_{K}'] = np.nan\n",
    "for i, mesh_ret in mesh_retrieval_df.iterrows():\n",
    "    y_true = mesh_ret['y_true']\n",
    "    y_pred = mesh_ret['y_pred_class']\n",
    "    n_rel = N_REL_MESH[y_true]\n",
    "    mesh_retrieval_df[f'ap_at_{K}'].at[i] = avg_precision_at_k(y_true, y_pred, k=K, n_rel=n_rel)\n",
    "\n",
    "ap_at_1 = mesh_retrieval_df[f'ap_at_{K}'].values\n",
    "map_at_1 = (1/ap_at_1.shape[0]) * sum(ap_at_1)\n",
    "\n",
    "eval_df = eval_df.assign(map_at_1=map_at_1)\n",
    "display(eval_df.head())"
   ]
  },
  {
   "cell_type": "markdown",
   "metadata": {},
   "source": [
    "### mAP@5"
   ]
  },
  {
   "cell_type": "code",
   "execution_count": null,
   "metadata": {},
   "outputs": [
    {
     "data": {
      "text/html": [
       "<div>\n",
       "<style scoped>\n",
       "    .dataframe tbody tr th:only-of-type {\n",
       "        vertical-align: middle;\n",
       "    }\n",
       "\n",
       "    .dataframe tbody tr th {\n",
       "        vertical-align: top;\n",
       "    }\n",
       "\n",
       "    .dataframe thead th {\n",
       "        text-align: right;\n",
       "    }\n",
       "</style>\n",
       "<table border=\"1\" class=\"dataframe\">\n",
       "  <thead>\n",
       "    <tr style=\"text-align: right;\">\n",
       "      <th></th>\n",
       "      <th>run</th>\n",
       "      <th>feature_extractor</th>\n",
       "      <th>split</th>\n",
       "      <th>acc_at_1</th>\n",
       "      <th>acc_at_5</th>\n",
       "      <th>acc_at_10</th>\n",
       "      <th>map_at_1</th>\n",
       "      <th>map_at_5</th>\n",
       "    </tr>\n",
       "  </thead>\n",
       "  <tbody>\n",
       "    <tr>\n",
       "      <th>0</th>\n",
       "      <td>mi3dor_trainsynth_testreal_resize</td>\n",
       "      <td>dino_vitb16_in1k</td>\n",
       "      <td>traintest_full</td>\n",
       "      <td>0.075714</td>\n",
       "      <td>0.188095</td>\n",
       "      <td>0.261524</td>\n",
       "      <td>0.075714</td>\n",
       "      <td>0.046243</td>\n",
       "    </tr>\n",
       "  </tbody>\n",
       "</table>\n",
       "</div>"
      ],
      "text/plain": [
       "                                 run feature_extractor           split  \\\n",
       "0  mi3dor_trainsynth_testreal_resize  dino_vitb16_in1k  traintest_full   \n",
       "\n",
       "   acc_at_1  acc_at_5  acc_at_10  map_at_1  map_at_5  \n",
       "0  0.075714  0.188095   0.261524  0.075714  0.046243  "
      ]
     },
     "metadata": {},
     "output_type": "display_data"
    }
   ],
   "source": [
    "K=5\n",
    "mesh_retrieval_df[f'ap_at_{K}'] = np.nan\n",
    "for i, mesh_ret in mesh_retrieval_df.iterrows():\n",
    "    y_true = mesh_ret['y_true']\n",
    "    y_pred = mesh_ret['y_pred_class']\n",
    "    n_rel = N_REL_MESH[y_true]\n",
    "    mesh_retrieval_df[f'ap_at_{K}'].at[i] = avg_precision_at_k(y_true, y_pred, k=K, n_rel=n_rel)\n",
    "\n",
    "ap_at_5 = mesh_retrieval_df[f'ap_at_{K}'].values\n",
    "map_at_5 = (1/ap_at_5.shape[0]) * sum(ap_at_5)\n",
    "\n",
    "eval_df = eval_df.assign(map_at_5=map_at_5)\n",
    "display(eval_df.head())"
   ]
  },
  {
   "cell_type": "markdown",
   "metadata": {},
   "source": [
    "### mAP@10"
   ]
  },
  {
   "cell_type": "code",
   "execution_count": null,
   "metadata": {},
   "outputs": [
    {
     "data": {
      "text/html": [
       "<div>\n",
       "<style scoped>\n",
       "    .dataframe tbody tr th:only-of-type {\n",
       "        vertical-align: middle;\n",
       "    }\n",
       "\n",
       "    .dataframe tbody tr th {\n",
       "        vertical-align: top;\n",
       "    }\n",
       "\n",
       "    .dataframe thead th {\n",
       "        text-align: right;\n",
       "    }\n",
       "</style>\n",
       "<table border=\"1\" class=\"dataframe\">\n",
       "  <thead>\n",
       "    <tr style=\"text-align: right;\">\n",
       "      <th></th>\n",
       "      <th>run</th>\n",
       "      <th>feature_extractor</th>\n",
       "      <th>split</th>\n",
       "      <th>acc_at_1</th>\n",
       "      <th>acc_at_5</th>\n",
       "      <th>acc_at_10</th>\n",
       "      <th>map_at_1</th>\n",
       "      <th>map_at_5</th>\n",
       "      <th>map_at_10</th>\n",
       "    </tr>\n",
       "  </thead>\n",
       "  <tbody>\n",
       "    <tr>\n",
       "      <th>0</th>\n",
       "      <td>mi3dor_trainsynth_testreal_resize</td>\n",
       "      <td>dino_vitb16_in1k</td>\n",
       "      <td>traintest_full</td>\n",
       "      <td>0.075714</td>\n",
       "      <td>0.188095</td>\n",
       "      <td>0.261524</td>\n",
       "      <td>0.075714</td>\n",
       "      <td>0.046243</td>\n",
       "      <td>0.035866</td>\n",
       "    </tr>\n",
       "  </tbody>\n",
       "</table>\n",
       "</div>"
      ],
      "text/plain": [
       "                                 run feature_extractor           split  \\\n",
       "0  mi3dor_trainsynth_testreal_resize  dino_vitb16_in1k  traintest_full   \n",
       "\n",
       "   acc_at_1  acc_at_5  acc_at_10  map_at_1  map_at_5  map_at_10  \n",
       "0  0.075714  0.188095   0.261524  0.075714  0.046243   0.035866  "
      ]
     },
     "metadata": {},
     "output_type": "display_data"
    }
   ],
   "source": [
    "K=10\n",
    "mesh_retrieval_df[f'ap_at_{K}'] = np.nan\n",
    "for i, mesh_ret in mesh_retrieval_df.iterrows():\n",
    "    y_true = mesh_ret['y_true']\n",
    "    y_pred = mesh_ret['y_pred_class']\n",
    "    n_rel = N_REL_MESH[y_true]\n",
    "    mesh_retrieval_df[f'ap_at_{K}'].at[i] = avg_precision_at_k(y_true, y_pred, k=K, n_rel=n_rel)\n",
    "\n",
    "ap_at_10 = mesh_retrieval_df[f'ap_at_{K}'].values\n",
    "map_at_10 = (1/ap_at_10.shape[0]) * sum(ap_at_10)\n",
    "\n",
    "eval_df = eval_df.assign(map_at_10=map_at_10)\n",
    "display(eval_df.head())"
   ]
  },
  {
   "cell_type": "markdown",
   "metadata": {},
   "source": [
    "### mAP@100"
   ]
  },
  {
   "cell_type": "code",
   "execution_count": null,
   "metadata": {},
   "outputs": [
    {
     "data": {
      "text/html": [
       "<div>\n",
       "<style scoped>\n",
       "    .dataframe tbody tr th:only-of-type {\n",
       "        vertical-align: middle;\n",
       "    }\n",
       "\n",
       "    .dataframe tbody tr th {\n",
       "        vertical-align: top;\n",
       "    }\n",
       "\n",
       "    .dataframe thead th {\n",
       "        text-align: right;\n",
       "    }\n",
       "</style>\n",
       "<table border=\"1\" class=\"dataframe\">\n",
       "  <thead>\n",
       "    <tr style=\"text-align: right;\">\n",
       "      <th></th>\n",
       "      <th>run</th>\n",
       "      <th>feature_extractor</th>\n",
       "      <th>split</th>\n",
       "      <th>acc_at_1</th>\n",
       "      <th>acc_at_5</th>\n",
       "      <th>acc_at_10</th>\n",
       "      <th>map_at_1</th>\n",
       "      <th>map_at_5</th>\n",
       "      <th>map_at_10</th>\n",
       "      <th>map_at_100</th>\n",
       "    </tr>\n",
       "  </thead>\n",
       "  <tbody>\n",
       "    <tr>\n",
       "      <th>0</th>\n",
       "      <td>mi3dor_trainsynth_testreal_resize</td>\n",
       "      <td>dino_vitb16_in1k</td>\n",
       "      <td>traintest_full</td>\n",
       "      <td>0.075714</td>\n",
       "      <td>0.188095</td>\n",
       "      <td>0.261524</td>\n",
       "      <td>0.075714</td>\n",
       "      <td>0.046243</td>\n",
       "      <td>0.035866</td>\n",
       "      <td>0.016975</td>\n",
       "    </tr>\n",
       "  </tbody>\n",
       "</table>\n",
       "</div>"
      ],
      "text/plain": [
       "                                 run feature_extractor           split  \\\n",
       "0  mi3dor_trainsynth_testreal_resize  dino_vitb16_in1k  traintest_full   \n",
       "\n",
       "   acc_at_1  acc_at_5  acc_at_10  map_at_1  map_at_5  map_at_10  map_at_100  \n",
       "0  0.075714  0.188095   0.261524  0.075714  0.046243   0.035866    0.016975  "
      ]
     },
     "metadata": {},
     "output_type": "display_data"
    }
   ],
   "source": [
    "K=100\n",
    "mesh_retrieval_df[f'ap_at_{K}'] = np.nan\n",
    "for i, mesh_ret in mesh_retrieval_df.iterrows():\n",
    "    y_true = mesh_ret['y_true']\n",
    "    y_pred = mesh_ret['y_pred_class']\n",
    "    n_rel = N_REL_MESH[y_true]\n",
    "    mesh_retrieval_df[f'ap_at_{K}'].at[i] = avg_precision_at_k(y_true, y_pred, k=K, n_rel=n_rel)\n",
    "\n",
    "ap_at_100 = mesh_retrieval_df[f'ap_at_{K}'].values\n",
    "map_at_100 = (1/ap_at_100.shape[0]) * sum(ap_at_100)\n",
    "\n",
    "eval_df = eval_df.assign(map_at_100=map_at_100)\n",
    "display(eval_df.head())"
   ]
  },
  {
   "cell_type": "markdown",
   "metadata": {},
   "source": [
    "## Average R-Precision (ARP)\n",
    "\n",
    "R-Precision is the mean average precision @ k, where k is always the number of relevant documents that can be retrieved.\n"
   ]
  },
  {
   "cell_type": "code",
   "execution_count": null,
   "metadata": {},
   "outputs": [
    {
     "data": {
      "text/html": [
       "<div>\n",
       "<style scoped>\n",
       "    .dataframe tbody tr th:only-of-type {\n",
       "        vertical-align: middle;\n",
       "    }\n",
       "\n",
       "    .dataframe tbody tr th {\n",
       "        vertical-align: top;\n",
       "    }\n",
       "\n",
       "    .dataframe thead th {\n",
       "        text-align: right;\n",
       "    }\n",
       "</style>\n",
       "<table border=\"1\" class=\"dataframe\">\n",
       "  <thead>\n",
       "    <tr style=\"text-align: right;\">\n",
       "      <th></th>\n",
       "      <th>run</th>\n",
       "      <th>feature_extractor</th>\n",
       "      <th>split</th>\n",
       "      <th>acc_at_1</th>\n",
       "      <th>acc_at_5</th>\n",
       "      <th>acc_at_10</th>\n",
       "      <th>map_at_1</th>\n",
       "      <th>map_at_5</th>\n",
       "      <th>map_at_10</th>\n",
       "      <th>map_at_100</th>\n",
       "      <th>map_at_r</th>\n",
       "    </tr>\n",
       "  </thead>\n",
       "  <tbody>\n",
       "    <tr>\n",
       "      <th>0</th>\n",
       "      <td>mi3dor_trainsynth_testreal_resize</td>\n",
       "      <td>dino_vitb16_in1k</td>\n",
       "      <td>traintest_full</td>\n",
       "      <td>0.075714</td>\n",
       "      <td>0.188095</td>\n",
       "      <td>0.261524</td>\n",
       "      <td>0.075714</td>\n",
       "      <td>0.046243</td>\n",
       "      <td>0.035866</td>\n",
       "      <td>0.016975</td>\n",
       "      <td>0.013191</td>\n",
       "    </tr>\n",
       "  </tbody>\n",
       "</table>\n",
       "</div>"
      ],
      "text/plain": [
       "                                 run feature_extractor           split  \\\n",
       "0  mi3dor_trainsynth_testreal_resize  dino_vitb16_in1k  traintest_full   \n",
       "\n",
       "   acc_at_1  acc_at_5  acc_at_10  map_at_1  map_at_5  map_at_10  map_at_100  \\\n",
       "0  0.075714  0.188095   0.261524  0.075714  0.046243   0.035866    0.016975   \n",
       "\n",
       "   map_at_r  \n",
       "0  0.013191  "
      ]
     },
     "metadata": {},
     "output_type": "display_data"
    }
   ],
   "source": [
    "mesh_retrieval_df['ap_at_r'] = np.nan\n",
    "mesh_retrieval_df['ar_at_r'] = np.nan\n",
    "for i, mesh_ret in mesh_retrieval_df.iterrows():\n",
    "    y_true = mesh_ret['y_true']\n",
    "    y_pred = mesh_ret['y_pred_class']\n",
    "    n_rel = N_REL_MESH[y_true]\n",
    "    mesh_retrieval_df['ap_at_r'].at[i] = avg_precision_at_k(y_true, y_pred, k=n_rel, n_rel=n_rel)\n",
    "    mesh_retrieval_df['ar_at_r'].at[i] = avg_precision_at_k(y_true, y_pred, k=n_rel, n_rel=n_rel)\n",
    "\n",
    "ap_at_r = mesh_retrieval_df['ap_at_r'].values\n",
    "# NOTE: For K=|Rel| neighbour queries, Precision and Recall are always the same (Break-Even Point) \n",
    "map_at_r = (1/ap_at_r.shape[0]) * sum(ap_at_r)\n",
    "\n",
    "eval_df = eval_df.assign(map_at_r=map_at_r)\n",
    "display(eval_df.head())"
   ]
  },
  {
   "cell_type": "markdown",
   "metadata": {},
   "source": [
    "## Average Normalized Discounted Cumulative Gain (nDCG)"
   ]
  },
  {
   "cell_type": "code",
   "execution_count": null,
   "metadata": {},
   "outputs": [],
   "source": [
    "def discountedCumulativeGain(pred_scores):\n",
    "    dcg = 0\n",
    "    for idx, val in enumerate(pred_scores): \n",
    "        # add 2 because python 0-index\n",
    "        score = (2**val - 1) / (np.log2(idx + 2) )\n",
    "        dcg += score\n",
    "    return dcg\n",
    "\n",
    "def norm_dcg(pred_scores, idcg):\n",
    "    dcg = discountedCumulativeGain(pred_scores)\n",
    "    return dcg/idcg\n",
    "\n"
   ]
  },
  {
   "cell_type": "code",
   "execution_count": null,
   "metadata": {},
   "outputs": [
    {
     "data": {
      "text/html": [
       "<div>\n",
       "<style scoped>\n",
       "    .dataframe tbody tr th:only-of-type {\n",
       "        vertical-align: middle;\n",
       "    }\n",
       "\n",
       "    .dataframe tbody tr th {\n",
       "        vertical-align: top;\n",
       "    }\n",
       "\n",
       "    .dataframe thead th {\n",
       "        text-align: right;\n",
       "    }\n",
       "</style>\n",
       "<table border=\"1\" class=\"dataframe\">\n",
       "  <thead>\n",
       "    <tr style=\"text-align: right;\">\n",
       "      <th></th>\n",
       "      <th>run</th>\n",
       "      <th>feature_extractor</th>\n",
       "      <th>split</th>\n",
       "      <th>acc_at_1</th>\n",
       "      <th>acc_at_5</th>\n",
       "      <th>acc_at_10</th>\n",
       "      <th>map_at_1</th>\n",
       "      <th>map_at_5</th>\n",
       "      <th>map_at_10</th>\n",
       "      <th>map_at_100</th>\n",
       "      <th>map_at_r</th>\n",
       "      <th>avg_ndcg</th>\n",
       "      <th>avg_ndcg_at_5</th>\n",
       "      <th>avg_ndcg_at_10</th>\n",
       "      <th>avg_ndcg_at_100</th>\n",
       "    </tr>\n",
       "  </thead>\n",
       "  <tbody>\n",
       "    <tr>\n",
       "      <th>0</th>\n",
       "      <td>mi3dor_trainsynth_testreal_resize</td>\n",
       "      <td>dino_vitb16_in1k</td>\n",
       "      <td>traintest_full</td>\n",
       "      <td>0.075714</td>\n",
       "      <td>0.188095</td>\n",
       "      <td>0.261524</td>\n",
       "      <td>0.075714</td>\n",
       "      <td>0.046243</td>\n",
       "      <td>0.035866</td>\n",
       "      <td>0.016975</td>\n",
       "      <td>0.013191</td>\n",
       "      <td>0.1718</td>\n",
       "      <td>0.069841</td>\n",
       "      <td>0.066533</td>\n",
       "      <td>0.060589</td>\n",
       "    </tr>\n",
       "  </tbody>\n",
       "</table>\n",
       "</div>"
      ],
      "text/plain": [
       "                                 run feature_extractor           split  \\\n",
       "0  mi3dor_trainsynth_testreal_resize  dino_vitb16_in1k  traintest_full   \n",
       "\n",
       "   acc_at_1  acc_at_5  acc_at_10  map_at_1  map_at_5  map_at_10  map_at_100  \\\n",
       "0  0.075714  0.188095   0.261524  0.075714  0.046243   0.035866    0.016975   \n",
       "\n",
       "   map_at_r  avg_ndcg  avg_ndcg_at_5  avg_ndcg_at_10  avg_ndcg_at_100  \n",
       "0  0.013191    0.1718       0.069841        0.066533         0.060589  "
      ]
     },
     "metadata": {},
     "output_type": "display_data"
    }
   ],
   "source": [
    "mesh_retrieval_df['ndcg'] = np.nan\n",
    "mesh_retrieval_df['ndcg_at_5'] = np.nan\n",
    "mesh_retrieval_df['ndcg_at_10'] = np.nan\n",
    "mesh_retrieval_df['ndcg_at_100'] = np.nan\n",
    "N_Q = len(mesh_retrieval_df.index)\n",
    "avg_ndcg = 0\n",
    "avg_ndcg_at_5 = 0\n",
    "avg_ndcg_at_10 = 0\n",
    "avg_ndcg_at_100 = 0\n",
    "for i, mesh_ret in mesh_retrieval_df.iterrows():\n",
    "    y_true = mesh_ret['y_true']\n",
    "    y_pred = mesh_ret['y_pred_class']\n",
    "    y_pred_arr = np.array(y_pred)\n",
    "    pred_scores = (y_pred_arr == y_true).astype(int)\n",
    "    n_rel = N_REL_MESH[y_true]\n",
    "    idcg_scores = np.concatenate((np.ones(n_rel), np.zeros(len(pred_scores) - n_rel)))\n",
    "    # print(f'{pred_scores=}')\n",
    "    # print(f'{idcg_scores=}')\n",
    "    ndcg = norm_dcg(pred_scores, discountedCumulativeGain(idcg_scores))\n",
    "    ndcg_at_5 = norm_dcg(pred_scores[:5], discountedCumulativeGain(idcg_scores[:5]))\n",
    "    ndcg_at_10 = norm_dcg(pred_scores[:10], discountedCumulativeGain(idcg_scores[:10]))\n",
    "    ndcg_at_100 = norm_dcg(pred_scores[:100], discountedCumulativeGain(idcg_scores[:100]))\n",
    "    mesh_retrieval_df['ndcg'].at[i] = ndcg\n",
    "    mesh_retrieval_df['ndcg_at_5'].at[i] = ndcg_at_5\n",
    "    mesh_retrieval_df['ndcg_at_10'].at[i] = ndcg_at_10\n",
    "    mesh_retrieval_df['ndcg_at_100'].at[i] = ndcg_at_100\n",
    "    avg_ndcg += ndcg / N_Q\n",
    "    avg_ndcg_at_5 += ndcg_at_5 / N_Q\n",
    "    avg_ndcg_at_10 += ndcg_at_10 / N_Q\n",
    "    avg_ndcg_at_100 += ndcg_at_100 / N_Q\n",
    "\n",
    "eval_df = eval_df.assign(avg_ndcg=avg_ndcg, avg_ndcg_at_5=avg_ndcg_at_5, avg_ndcg_at_10=avg_ndcg_at_10,avg_ndcg_at_100=avg_ndcg_at_100,)\n",
    "display(eval_df.head())\n"
   ]
  },
  {
   "cell_type": "markdown",
   "metadata": {},
   "source": [
    "## Mean Reciprocal Rank (MRR)\n",
    "\n",
    "At which rank does a relevant item occur first"
   ]
  },
  {
   "cell_type": "code",
   "execution_count": null,
   "metadata": {},
   "outputs": [],
   "source": [
    "def reciprocal_rank(pred_scores):\n",
    "    # +1 because index starts at 0\n",
    "    rank = np.argmax(pred_scores) + 1\n",
    "    return 1/rank"
   ]
  },
  {
   "cell_type": "code",
   "execution_count": null,
   "metadata": {},
   "outputs": [
    {
     "data": {
      "text/html": [
       "<div>\n",
       "<style scoped>\n",
       "    .dataframe tbody tr th:only-of-type {\n",
       "        vertical-align: middle;\n",
       "    }\n",
       "\n",
       "    .dataframe tbody tr th {\n",
       "        vertical-align: top;\n",
       "    }\n",
       "\n",
       "    .dataframe thead th {\n",
       "        text-align: right;\n",
       "    }\n",
       "</style>\n",
       "<table border=\"1\" class=\"dataframe\">\n",
       "  <thead>\n",
       "    <tr style=\"text-align: right;\">\n",
       "      <th></th>\n",
       "      <th>run</th>\n",
       "      <th>feature_extractor</th>\n",
       "      <th>split</th>\n",
       "      <th>acc_at_1</th>\n",
       "      <th>acc_at_5</th>\n",
       "      <th>acc_at_10</th>\n",
       "      <th>map_at_1</th>\n",
       "      <th>map_at_5</th>\n",
       "      <th>map_at_10</th>\n",
       "      <th>map_at_100</th>\n",
       "      <th>map_at_r</th>\n",
       "      <th>avg_ndcg</th>\n",
       "      <th>avg_ndcg_at_5</th>\n",
       "      <th>avg_ndcg_at_10</th>\n",
       "      <th>avg_ndcg_at_100</th>\n",
       "      <th>mrr</th>\n",
       "    </tr>\n",
       "  </thead>\n",
       "  <tbody>\n",
       "    <tr>\n",
       "      <th>0</th>\n",
       "      <td>mi3dor_trainsynth_testreal_resize</td>\n",
       "      <td>dino_vitb16_in1k</td>\n",
       "      <td>traintest_full</td>\n",
       "      <td>0.075714</td>\n",
       "      <td>0.188095</td>\n",
       "      <td>0.261524</td>\n",
       "      <td>0.075714</td>\n",
       "      <td>0.046243</td>\n",
       "      <td>0.035866</td>\n",
       "      <td>0.016975</td>\n",
       "      <td>0.013191</td>\n",
       "      <td>0.1718</td>\n",
       "      <td>0.069841</td>\n",
       "      <td>0.066533</td>\n",
       "      <td>0.060589</td>\n",
       "      <td>0.208152</td>\n",
       "    </tr>\n",
       "  </tbody>\n",
       "</table>\n",
       "</div>"
      ],
      "text/plain": [
       "                                 run feature_extractor           split  \\\n",
       "0  mi3dor_trainsynth_testreal_resize  dino_vitb16_in1k  traintest_full   \n",
       "\n",
       "   acc_at_1  acc_at_5  acc_at_10  map_at_1  map_at_5  map_at_10  map_at_100  \\\n",
       "0  0.075714  0.188095   0.261524  0.075714  0.046243   0.035866    0.016975   \n",
       "\n",
       "   map_at_r  avg_ndcg  avg_ndcg_at_5  avg_ndcg_at_10  avg_ndcg_at_100  \\\n",
       "0  0.013191    0.1718       0.069841        0.066533         0.060589   \n",
       "\n",
       "        mrr  \n",
       "0  0.208152  "
      ]
     },
     "metadata": {},
     "output_type": "display_data"
    }
   ],
   "source": [
    "mesh_retrieval_df['reciprocal_rank'] = np.nan\n",
    "mrr = 0\n",
    "N_Q = len(mesh_retrieval_df.index)\n",
    "for i, mesh_ret in mesh_retrieval_df.iterrows():\n",
    "    y_true = mesh_ret['y_true']\n",
    "    y_pred = mesh_ret['y_pred_class']\n",
    "    y_pred_arr = np.array(y_pred)\n",
    "    pred_scores = (y_pred_arr == y_true).astype(int)\n",
    "    rr = reciprocal_rank(pred_scores)\n",
    "    mesh_retrieval_df['reciprocal_rank'].at[i] = rr\n",
    "    mrr += reciprocal_rank(pred_scores) / N_Q\n",
    "\n",
    "eval_df = eval_df.assign(mrr=mrr)\n",
    "display(eval_df.head())"
   ]
  },
  {
   "cell_type": "markdown",
   "metadata": {},
   "source": [
    "# Save Mesh Retrieval Results\n",
    "(and eval resutls for each query)"
   ]
  },
  {
   "cell_type": "code",
   "execution_count": null,
   "metadata": {},
   "outputs": [
    {
     "data": {
      "text/html": [
       "<div>\n",
       "<style scoped>\n",
       "    .dataframe tbody tr th:only-of-type {\n",
       "        vertical-align: middle;\n",
       "    }\n",
       "\n",
       "    .dataframe tbody tr th {\n",
       "        vertical-align: top;\n",
       "    }\n",
       "\n",
       "    .dataframe thead th {\n",
       "        text-align: right;\n",
       "    }\n",
       "</style>\n",
       "<table border=\"1\" class=\"dataframe\">\n",
       "  <thead>\n",
       "    <tr style=\"text-align: right;\">\n",
       "      <th></th>\n",
       "      <th>image</th>\n",
       "      <th>y_true</th>\n",
       "      <th>y_pred_class</th>\n",
       "      <th>y_pred_mesh</th>\n",
       "      <th>ap_at_1</th>\n",
       "      <th>ap_at_5</th>\n",
       "      <th>ap_at_10</th>\n",
       "      <th>ap_at_100</th>\n",
       "      <th>ap_at_r</th>\n",
       "      <th>ar_at_r</th>\n",
       "      <th>ndcg</th>\n",
       "      <th>ndcg_at_5</th>\n",
       "      <th>ndcg_at_10</th>\n",
       "      <th>ndcg_at_100</th>\n",
       "      <th>reciprocal_rank</th>\n",
       "    </tr>\n",
       "  </thead>\n",
       "  <tbody>\n",
       "    <tr>\n",
       "      <th>0</th>\n",
       "      <td>./data/datasets/mi3dor/test_real/images/radio/...</td>\n",
       "      <td>radio</td>\n",
       "      <td>[keyboard, keyboard, keyboard, keyboard, keybo...</td>\n",
       "      <td>[keyboard_train_0067, keyboard_train_0057, key...</td>\n",
       "      <td>0.0</td>\n",
       "      <td>0.0</td>\n",
       "      <td>0.0</td>\n",
       "      <td>0.000950</td>\n",
       "      <td>0.000950</td>\n",
       "      <td>0.000950</td>\n",
       "      <td>0.085077</td>\n",
       "      <td>0.0</td>\n",
       "      <td>0.0</td>\n",
       "      <td>0.023772</td>\n",
       "      <td>0.024390</td>\n",
       "    </tr>\n",
       "    <tr>\n",
       "      <th>1</th>\n",
       "      <td>./data/datasets/mi3dor/test_real/images/radio/...</td>\n",
       "      <td>radio</td>\n",
       "      <td>[keyboard, plant, bed, bed, plant, stairs, bed...</td>\n",
       "      <td>[keyboard_train_0031, plant_train_0078, bed_tr...</td>\n",
       "      <td>0.0</td>\n",
       "      <td>0.0</td>\n",
       "      <td>0.0</td>\n",
       "      <td>0.000000</td>\n",
       "      <td>0.000000</td>\n",
       "      <td>0.000000</td>\n",
       "      <td>0.033730</td>\n",
       "      <td>0.0</td>\n",
       "      <td>0.0</td>\n",
       "      <td>0.000000</td>\n",
       "      <td>0.006711</td>\n",
       "    </tr>\n",
       "    <tr>\n",
       "      <th>2</th>\n",
       "      <td>./data/datasets/mi3dor/test_real/images/radio/...</td>\n",
       "      <td>radio</td>\n",
       "      <td>[stairs, stairs, bed, keyboard, keyboard, rifl...</td>\n",
       "      <td>[stairs_train_0068, stairs_train_0001, bed_tra...</td>\n",
       "      <td>0.0</td>\n",
       "      <td>0.0</td>\n",
       "      <td>0.0</td>\n",
       "      <td>0.006245</td>\n",
       "      <td>0.003166</td>\n",
       "      <td>0.003166</td>\n",
       "      <td>0.144173</td>\n",
       "      <td>0.0</td>\n",
       "      <td>0.0</td>\n",
       "      <td>0.074265</td>\n",
       "      <td>0.076923</td>\n",
       "    </tr>\n",
       "    <tr>\n",
       "      <th>3</th>\n",
       "      <td>./data/datasets/mi3dor/test_real/images/radio/...</td>\n",
       "      <td>radio</td>\n",
       "      <td>[flower_pot, bed, bed, vase, wardrobe, wardrob...</td>\n",
       "      <td>[flower_pot_train_0022, bed_train_0169, bed_tr...</td>\n",
       "      <td>0.0</td>\n",
       "      <td>0.0</td>\n",
       "      <td>0.0</td>\n",
       "      <td>0.006714</td>\n",
       "      <td>0.003740</td>\n",
       "      <td>0.003740</td>\n",
       "      <td>0.120838</td>\n",
       "      <td>0.0</td>\n",
       "      <td>0.0</td>\n",
       "      <td>0.075412</td>\n",
       "      <td>0.062500</td>\n",
       "    </tr>\n",
       "    <tr>\n",
       "      <th>4</th>\n",
       "      <td>./data/datasets/mi3dor/test_real/images/radio/...</td>\n",
       "      <td>radio</td>\n",
       "      <td>[plant, keyboard, keyboard, guitar, flower_pot...</td>\n",
       "      <td>[plant_train_0190, keyboard_train_0068, keyboa...</td>\n",
       "      <td>0.0</td>\n",
       "      <td>0.0</td>\n",
       "      <td>0.0</td>\n",
       "      <td>0.001349</td>\n",
       "      <td>0.000358</td>\n",
       "      <td>0.000358</td>\n",
       "      <td>0.049716</td>\n",
       "      <td>0.0</td>\n",
       "      <td>0.0</td>\n",
       "      <td>0.033252</td>\n",
       "      <td>0.022222</td>\n",
       "    </tr>\n",
       "  </tbody>\n",
       "</table>\n",
       "</div>"
      ],
      "text/plain": [
       "                                               image y_true  \\\n",
       "0  ./data/datasets/mi3dor/test_real/images/radio/...  radio   \n",
       "1  ./data/datasets/mi3dor/test_real/images/radio/...  radio   \n",
       "2  ./data/datasets/mi3dor/test_real/images/radio/...  radio   \n",
       "3  ./data/datasets/mi3dor/test_real/images/radio/...  radio   \n",
       "4  ./data/datasets/mi3dor/test_real/images/radio/...  radio   \n",
       "\n",
       "                                        y_pred_class  \\\n",
       "0  [keyboard, keyboard, keyboard, keyboard, keybo...   \n",
       "1  [keyboard, plant, bed, bed, plant, stairs, bed...   \n",
       "2  [stairs, stairs, bed, keyboard, keyboard, rifl...   \n",
       "3  [flower_pot, bed, bed, vase, wardrobe, wardrob...   \n",
       "4  [plant, keyboard, keyboard, guitar, flower_pot...   \n",
       "\n",
       "                                         y_pred_mesh  ap_at_1  ap_at_5  \\\n",
       "0  [keyboard_train_0067, keyboard_train_0057, key...      0.0      0.0   \n",
       "1  [keyboard_train_0031, plant_train_0078, bed_tr...      0.0      0.0   \n",
       "2  [stairs_train_0068, stairs_train_0001, bed_tra...      0.0      0.0   \n",
       "3  [flower_pot_train_0022, bed_train_0169, bed_tr...      0.0      0.0   \n",
       "4  [plant_train_0190, keyboard_train_0068, keyboa...      0.0      0.0   \n",
       "\n",
       "   ap_at_10  ap_at_100   ap_at_r   ar_at_r      ndcg  ndcg_at_5  ndcg_at_10  \\\n",
       "0       0.0   0.000950  0.000950  0.000950  0.085077        0.0         0.0   \n",
       "1       0.0   0.000000  0.000000  0.000000  0.033730        0.0         0.0   \n",
       "2       0.0   0.006245  0.003166  0.003166  0.144173        0.0         0.0   \n",
       "3       0.0   0.006714  0.003740  0.003740  0.120838        0.0         0.0   \n",
       "4       0.0   0.001349  0.000358  0.000358  0.049716        0.0         0.0   \n",
       "\n",
       "   ndcg_at_100  reciprocal_rank  \n",
       "0     0.023772         0.024390  \n",
       "1     0.000000         0.006711  \n",
       "2     0.074265         0.076923  \n",
       "3     0.075412         0.062500  \n",
       "4     0.033252         0.022222  "
      ]
     },
     "metadata": {},
     "output_type": "display_data"
    }
   ],
   "source": [
    "mesh_retrieval_df_path = f\"./out/{RUN}/{FEATURE_EXTRACTOR}/{SPLIT}/retrieval_results/mesh_retrieval_df.csv\"\n",
    "mesh_retrieval_df.to_csv(mesh_retrieval_df_path)\n",
    "display(mesh_retrieval_df.head())"
   ]
  },
  {
   "cell_type": "markdown",
   "metadata": {},
   "source": [
    "# Save eval results as csv"
   ]
  },
  {
   "cell_type": "code",
   "execution_count": null,
   "metadata": {},
   "outputs": [
    {
     "data": {
      "text/html": [
       "<div>\n",
       "<style scoped>\n",
       "    .dataframe tbody tr th:only-of-type {\n",
       "        vertical-align: middle;\n",
       "    }\n",
       "\n",
       "    .dataframe tbody tr th {\n",
       "        vertical-align: top;\n",
       "    }\n",
       "\n",
       "    .dataframe thead th {\n",
       "        text-align: right;\n",
       "    }\n",
       "</style>\n",
       "<table border=\"1\" class=\"dataframe\">\n",
       "  <thead>\n",
       "    <tr style=\"text-align: right;\">\n",
       "      <th></th>\n",
       "      <th>run</th>\n",
       "      <th>feature_extractor</th>\n",
       "      <th>split</th>\n",
       "      <th>acc_at_1</th>\n",
       "      <th>acc_at_5</th>\n",
       "      <th>acc_at_10</th>\n",
       "      <th>map_at_1</th>\n",
       "      <th>map_at_5</th>\n",
       "      <th>map_at_10</th>\n",
       "      <th>map_at_100</th>\n",
       "      <th>map_at_r</th>\n",
       "      <th>avg_ndcg</th>\n",
       "      <th>avg_ndcg_at_5</th>\n",
       "      <th>avg_ndcg_at_10</th>\n",
       "      <th>avg_ndcg_at_100</th>\n",
       "      <th>mrr</th>\n",
       "    </tr>\n",
       "  </thead>\n",
       "  <tbody>\n",
       "    <tr>\n",
       "      <th>0</th>\n",
       "      <td>mi3dor_trainsynth_testreal_resize</td>\n",
       "      <td>dino_vitb16_in1k</td>\n",
       "      <td>traintest_full</td>\n",
       "      <td>0.075714</td>\n",
       "      <td>0.188095</td>\n",
       "      <td>0.261524</td>\n",
       "      <td>0.075714</td>\n",
       "      <td>0.046243</td>\n",
       "      <td>0.035866</td>\n",
       "      <td>0.016975</td>\n",
       "      <td>0.013191</td>\n",
       "      <td>0.1718</td>\n",
       "      <td>0.069841</td>\n",
       "      <td>0.066533</td>\n",
       "      <td>0.060589</td>\n",
       "      <td>0.208152</td>\n",
       "    </tr>\n",
       "  </tbody>\n",
       "</table>\n",
       "</div>"
      ],
      "text/plain": [
       "                                 run feature_extractor           split  \\\n",
       "0  mi3dor_trainsynth_testreal_resize  dino_vitb16_in1k  traintest_full   \n",
       "\n",
       "   acc_at_1  acc_at_5  acc_at_10  map_at_1  map_at_5  map_at_10  map_at_100  \\\n",
       "0  0.075714  0.188095   0.261524  0.075714  0.046243   0.035866    0.016975   \n",
       "\n",
       "   map_at_r  avg_ndcg  avg_ndcg_at_5  avg_ndcg_at_10  avg_ndcg_at_100  \\\n",
       "0  0.013191    0.1718       0.069841        0.066533         0.060589   \n",
       "\n",
       "        mrr  \n",
       "0  0.208152  "
      ]
     },
     "metadata": {},
     "output_type": "display_data"
    }
   ],
   "source": [
    "eval_df_path = f\"./out/{RUN}/{FEATURE_EXTRACTOR}/{SPLIT}/retrieval_results/eval_results.csv\"\n",
    "eval_df.to_csv(eval_df_path)\n",
    "display(eval_df.head())"
   ]
  }
 ],
 "metadata": {
  "kernelspec": {
   "display_name": "Python 3.9.13 ('py39-evaluation-pipeline')",
   "language": "python",
   "name": "python3"
  },
  "language_info": {
   "codemirror_mode": {
    "name": "ipython",
    "version": 3
   },
   "file_extension": ".py",
   "mimetype": "text/x-python",
   "name": "python",
   "nbconvert_exporter": "python",
   "pygments_lexer": "ipython3",
   "version": "3.9.13"
  },
  "orig_nbformat": 4,
  "vscode": {
   "interpreter": {
    "hash": "9d030879e1cd129f9e0b3ea9e2347b9d51a1fbb19708aff6e35d18c9ac372b8e"
   }
  }
 },
 "nbformat": 4,
 "nbformat_minor": 2
}
